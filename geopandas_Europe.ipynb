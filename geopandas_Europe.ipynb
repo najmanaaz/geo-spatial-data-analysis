{
 "cells": [
  {
   "cell_type": "code",
   "execution_count": 77,
   "metadata": {},
   "outputs": [
    {
     "name": "stdout",
     "output_type": "stream",
     "text": [
      "/Users/Naaz/Documents/Projects/Python/GeoSpatialAnalysis\r\n"
     ]
    }
   ],
   "source": [
    "! pwd"
   ]
  },
  {
   "cell_type": "code",
   "execution_count": 78,
   "metadata": {},
   "outputs": [],
   "source": [
    "import pandas as pd\n",
    "\n",
    "# https://www.kaggle.com/roshansharma/europe-datasets?select=work_hours_2016.csv\n",
    "df = pd.read_csv(\"Input/work_hours_2016.csv\")"
   ]
  },
  {
   "cell_type": "code",
   "execution_count": 79,
   "metadata": {},
   "outputs": [
    {
     "data": {
      "text/plain": [
       "country            object\n",
       "avg_hrs_worked    float64\n",
       "dtype: object"
      ]
     },
     "execution_count": 79,
     "metadata": {},
     "output_type": "execute_result"
    }
   ],
   "source": [
    "df.dtypes"
   ]
  },
  {
   "cell_type": "code",
   "execution_count": 81,
   "metadata": {},
   "outputs": [
    {
     "data": {
      "text/html": [
       "<div>\n",
       "<style scoped>\n",
       "    .dataframe tbody tr th:only-of-type {\n",
       "        vertical-align: middle;\n",
       "    }\n",
       "\n",
       "    .dataframe tbody tr th {\n",
       "        vertical-align: top;\n",
       "    }\n",
       "\n",
       "    .dataframe thead th {\n",
       "        text-align: right;\n",
       "    }\n",
       "</style>\n",
       "<table border=\"1\" class=\"dataframe\">\n",
       "  <thead>\n",
       "    <tr style=\"text-align: right;\">\n",
       "      <th></th>\n",
       "      <th>country</th>\n",
       "      <th>avg_hrs_worked</th>\n",
       "    </tr>\n",
       "  </thead>\n",
       "  <tbody>\n",
       "    <tr>\n",
       "      <th>0</th>\n",
       "      <td>Austria</td>\n",
       "      <td>36.5</td>\n",
       "    </tr>\n",
       "    <tr>\n",
       "      <th>1</th>\n",
       "      <td>Belgium</td>\n",
       "      <td>37.0</td>\n",
       "    </tr>\n",
       "    <tr>\n",
       "      <th>2</th>\n",
       "      <td>Bulgaria</td>\n",
       "      <td>40.8</td>\n",
       "    </tr>\n",
       "    <tr>\n",
       "      <th>3</th>\n",
       "      <td>Switzerland</td>\n",
       "      <td>34.7</td>\n",
       "    </tr>\n",
       "    <tr>\n",
       "      <th>4</th>\n",
       "      <td>Cyprus</td>\n",
       "      <td>39.2</td>\n",
       "    </tr>\n",
       "  </tbody>\n",
       "</table>\n",
       "</div>"
      ],
      "text/plain": [
       "       country  avg_hrs_worked\n",
       "0      Austria            36.5\n",
       "1      Belgium            37.0\n",
       "2     Bulgaria            40.8\n",
       "3  Switzerland            34.7\n",
       "4       Cyprus            39.2"
      ]
     },
     "execution_count": 81,
     "metadata": {},
     "output_type": "execute_result"
    }
   ],
   "source": [
    "df.head()"
   ]
  },
  {
   "cell_type": "code",
   "execution_count": 82,
   "metadata": {},
   "outputs": [],
   "source": [
    "#pip install geopandas\n",
    "\n",
    "# Import necessary modules\n",
    "import geopandas as gpd\n",
    "\n",
    "\n",
    "# Set filepath\n",
    "fp = \"World/MyEurope.shp\"\n",
    "\n",
    "# Read file using gpd.read_file()\n",
    "map_df = gpd.read_file(fp)"
   ]
  },
  {
   "cell_type": "code",
   "execution_count": 83,
   "metadata": {},
   "outputs": [
    {
     "data": {
      "text/plain": [
       "geopandas.geodataframe.GeoDataFrame"
      ]
     },
     "execution_count": 83,
     "metadata": {},
     "output_type": "execute_result"
    }
   ],
   "source": [
    "type(map_df)"
   ]
  },
  {
   "cell_type": "code",
   "execution_count": 84,
   "metadata": {},
   "outputs": [
    {
     "name": "stdout",
     "output_type": "stream",
     "text": [
      "  FIPS_CNTRY GMI_CNTRY CNTRY_NAME SOVEREIGN  POP_CNTRY  SQKM_CNTRY  \\\n",
      "0         AL       ALB    Albania   Albania    3416945   28754.500   \n",
      "1         AU       AUT    Austria   Austria    7755406   83738.852   \n",
      "\n",
      "   SQMI_CNTRY  CURR_TYPE CURR_CODE LANDLOCKED COLOR_MAP  Pop2011CIA  \\\n",
      "0    11102.11        Lek       ALL          N         6     2906024   \n",
      "1    32331.57  Schilling       ATS          Y         1     7971957   \n",
      "\n",
      "   Pop2000Wik                                                url  \\\n",
      "0     3037098  https://www.cia.gov/library/publications/the-w...   \n",
      "1     7944324  https://www.cia.gov/library/publications/the-w...   \n",
      "\n",
      "                                            geometry  \n",
      "0  POLYGON ((20.79192 40.43154, 20.78722 40.39472...  \n",
      "1  POLYGON ((10.47124 46.87135, 10.48821 46.93599...  \n"
     ]
    }
   ],
   "source": [
    "print(map_df.head(2))"
   ]
  },
  {
   "cell_type": "code",
   "execution_count": 85,
   "metadata": {},
   "outputs": [
    {
     "data": {
      "text/plain": [
       "<matplotlib.axes._subplots.AxesSubplot at 0x7fe7d1a83160>"
      ]
     },
     "execution_count": 85,
     "metadata": {},
     "output_type": "execute_result"
    },
    {
     "data": {
      "image/png": "[encoded data removed]",
      "text/plain": [
       "<Figure size 432x288 with 1 Axes>"
      ]
     },
     "metadata": {
      "needs_background": "light"
     },
     "output_type": "display_data"
    }
   ],
   "source": [
    "#pip install descartes\n",
    "\n",
    "%matplotlib inline\n",
    "map_df.plot()"
   ]
  },
  {
   "cell_type": "code",
   "execution_count": 86,
   "metadata": {},
   "outputs": [],
   "source": [
    "import matplotlib.pyplot as plt"
   ]
  },
  {
   "cell_type": "code",
   "execution_count": 87,
   "metadata": {},
   "outputs": [
    {
     "name": "stdout",
     "output_type": "stream",
     "text": [
      "                  FIPS_CNTRY GMI_CNTRY               SOVEREIGN  POP_CNTRY  \\\n",
      "CNTRY_NAME                                                                  \n",
      "Albania                   AL       ALB                 Albania    3416945   \n",
      "Austria                   AU       AUT                 Austria    7755406   \n",
      "Belgium                   BE       BEL                 Belgium   10032460   \n",
      "BosniaHerzegovina         BK       BIH  Bosnia and Herzegovina    2656240   \n",
      "Bulgaria                  BU       BGR                Bulgaria    8943258   \n",
      "Denmark                   DA       DNK                 Denmark    4667750   \n",
      "Ireland                   EI       IRL                 Ireland    5015975   \n",
      "Estonia                   EN       EST                 Estonia    1590808   \n",
      "CzechRepublic             EZ       CZE          Czech Republic   10321120   \n",
      "France                    FR       FRA                  France   57757060   \n",
      "Germany                   GM       DEU                 Germany   81436300   \n",
      "Greece                    GR       GRC                  Greece   10307460   \n",
      "Croatia                   HR       HRV                 Croatia    5004112   \n",
      "Hungary                   HU       HUN                 Hungary   10310410   \n",
      "Iceland                   IC       ISL                 Iceland     267240   \n",
      "Italy                     IT       ITA                   Italy   57908880   \n",
      "Latvia                    LG       LVA                  Latvia    2690291   \n",
      "Lithuania                 LH       LTU               Lithuania    3786560   \n",
      "Slovakia                  LO       SVK                Slovakia    5374362   \n",
      "Liechtenstein             LS       LIE           Liechtenstein      29342   \n",
      "Luxembourg                LU       LUX              Luxembourg     387064   \n",
      "Moldova                   MD       MDA                 Moldova    4473570   \n",
      "Macedonia                 MK       MKD               Macedonia    2104035   \n",
      "Monaco                    MN       MCO                  Monaco      27409   \n",
      "Netherlands               NL       NLD             Netherlands   15447470   \n",
      "Poland                    PL       POL                  Poland   37911870   \n",
      "Portugal                  PO       PRT                Portugal    9625516   \n",
      "Romania                   RO       ROM                 Romania   23540550   \n",
      "Slovenia                  SI       SVN                Slovenia    1951443   \n",
      "Spain                     SP       ESP                   Spain   39267780   \n",
      "Sweden                    SW       SWE                  Sweden    8728217   \n",
      "Switzerland               SZ       CHE             Switzerland    6713839   \n",
      "UnitedKingdom             UK       GBR          United Kingdom   56420180   \n",
      "\n",
      "                   SQKM_CNTRY  SQMI_CNTRY         CURR_TYPE CURR_CODE  \\\n",
      "CNTRY_NAME                                                              \n",
      "Albania             28754.500   11102.110               Lek       ALL   \n",
      "Austria             83738.852   32331.570         Schilling       ATS   \n",
      "Belgium             30479.609   11768.180             Franc       BEF   \n",
      "BosniaHerzegovina   51403.379   19846.850              None      None   \n",
      "Bulgaria           110801.500   42780.461               Lev       BFL   \n",
      "Denmark             42670.711   16475.160      Danish Krone       DKK   \n",
      "Ireland             69384.156   26789.221             Pound       IEP   \n",
      "Estonia             45544.559   17584.750             Kroon       EKR   \n",
      "CzechRepublic       78495.156   30306.980            Koruna       CSK   \n",
      "France             546728.875  211092.000             Franc       FRF   \n",
      "Germany            356108.812  137493.594              Mark       DEM   \n",
      "Greece             131851.906   50908.020           Drachma       GRD   \n",
      "Croatia             56287.789   21732.711              Kuna      None   \n",
      "Hungary             92782.203   35823.211            Forint       HUF   \n",
      "Iceland            101805.297   39307.031             Krona       ISK   \n",
      "Italy              300979.500  116208.203              Lira       ITL   \n",
      "Latvia              64298.891   24825.801               Lat       LVL   \n",
      "Lithuania           64849.199   25038.279             Litas      None   \n",
      "Slovakia            48648.309   18783.109            Koruna      None   \n",
      "Liechtenstein         164.800      63.629             Franc       CHF   \n",
      "Luxembourg           2594.117    1001.589  Luxembourg Franc       LUF   \n",
      "Moldova             33566.980   12960.210               Leu      None   \n",
      "Macedonia           25321.289    9776.550             Denar      None   \n",
      "Monaco                 11.988       4.629             Franc       FRF   \n",
      "Netherlands         35492.691   13703.730           Guilder       NLG   \n",
      "Poland             310715.094  119967.102             Zloty       PLZ   \n",
      "Portugal            92098.273   35559.141            Escudo       PTE   \n",
      "Romania            236654.000   91372.109               Leu       ROL   \n",
      "Slovenia            20245.689    7816.861             Tolar       SLT   \n",
      "Spain              505674.406  195240.906            Peseta       ESP   \n",
      "Sweden             443799.688  171351.094             Krone       SEK   \n",
      "Switzerland         41178.398   15898.980             Franc       CHF   \n",
      "UnitedKingdom      243137.203   93875.273    Pound Sterling       GBP   \n",
      "\n",
      "                  LANDLOCKED COLOR_MAP  Pop2011CIA  Pop2000Wik  \\\n",
      "CNTRY_NAME                                                       \n",
      "Albania                    N         6     2906024     3037098   \n",
      "Austria                    Y         1     7971957     7944324   \n",
      "Belgium                    N         4    10119727    10107422   \n",
      "BosniaHerzegovina          N         8     4484691     3790780   \n",
      "Bulgaria                   N         8     6882017     7495206   \n",
      "Denmark                    N         6     5365182     5269055   \n",
      "Ireland                    N         1     4532036     4024543   \n",
      "Estonia                    N         6     1245662     1291081   \n",
      "CzechRepublic              Y         3     9885694     9914379   \n",
      "France                     N         6    63354066    57154343   \n",
      "Germany                    N         8    79028860    79540967   \n",
      "Greece                     N         5    10438512    10787365   \n",
      "Croatia                    N         3     4350469     4415433   \n",
      "Hungary                    Y         4     9677959     9796021   \n",
      "Iceland                    N         8      302904      287109   \n",
      "Italy                      N         4    59187476    55892355   \n",
      "Latvia                     N         3     2139740     2307013   \n",
      "Lithuania                  N         2     3430653     3329020   \n",
      "Slovakia                   Y         6     5313899     5239918   \n",
      "Liechtenstein              Y         7       35350       34896   \n",
      "Luxembourg                 Y         1      489373      451994   \n",
      "Moldova                    Y         3     4186115     4080762   \n",
      "Macedonia                  Y         3     2016176     1973920   \n",
      "Monaco                     N         5       30790       34888   \n",
      "Netherlands                N         7    16342761    15810962   \n",
      "Poland                     N         5    37289502    37375028   \n",
      "Portugal                   N         4    10438657    10181076   \n",
      "Romania                    N         6    21248575    21060594   \n",
      "Slovenia                   N         2     1941248     1908912   \n",
      "Spain                      N         7    45353298    41772999   \n",
      "Sweden                     N         4     8817221     8770685   \n",
      "Switzerland                Y         7     7411916     7035353   \n",
      "UnitedKingdom              N         5    60818564    56706141   \n",
      "\n",
      "                                                                 url  \\\n",
      "CNTRY_NAME                                                             \n",
      "Albania            https://www.cia.gov/library/publications/the-w...   \n",
      "Austria            https://www.cia.gov/library/publications/the-w...   \n",
      "Belgium            https://www.cia.gov/library/publications/the-w...   \n",
      "BosniaHerzegovina  https://www.cia.gov/library/publications/the-w...   \n",
      "Bulgaria           https://www.cia.gov/library/publications/the-w...   \n",
      "Denmark            https://www.cia.gov/library/publications/the-w...   \n",
      "Ireland            https://www.cia.gov/library/publications/the-w...   \n",
      "Estonia            https://www.cia.gov/library/publications/the-w...   \n",
      "CzechRepublic      https://www.cia.gov/library/publications/the-w...   \n",
      "France             https://www.cia.gov/library/publications/the-w...   \n",
      "Germany            https://www.cia.gov/library/publications/the-w...   \n",
      "Greece             https://www.cia.gov/library/publications/the-w...   \n",
      "Croatia            https://www.cia.gov/library/publications/the-w...   \n",
      "Hungary            https://www.cia.gov/library/publications/the-w...   \n",
      "Iceland            https://www.cia.gov/library/publications/the-w...   \n",
      "Italy              https://www.cia.gov/library/publications/the-w...   \n",
      "Latvia             https://www.cia.gov/library/publications/the-w...   \n",
      "Lithuania          https://www.cia.gov/library/publications/the-w...   \n",
      "Slovakia           https://www.cia.gov/library/publications/the-w...   \n",
      "Liechtenstein      https://www.cia.gov/library/publications/the-w...   \n",
      "Luxembourg         https://www.cia.gov/library/publications/the-w...   \n",
      "Moldova            https://www.cia.gov/library/publications/the-w...   \n",
      "Macedonia          https://www.cia.gov/library/publications/the-w...   \n",
      "Monaco             https://www.cia.gov/library/publications/the-w...   \n",
      "Netherlands        https://www.cia.gov/library/publications/the-w...   \n",
      "Poland             https://www.cia.gov/library/publications/the-w...   \n",
      "Portugal           https://www.cia.gov/library/publications/the-w...   \n",
      "Romania            https://www.cia.gov/library/publications/the-w...   \n",
      "Slovenia           https://www.cia.gov/library/publications/the-w...   \n",
      "Spain              https://www.cia.gov/library/publications/the-w...   \n",
      "Sweden             https://www.cia.gov/library/publications/the-w...   \n",
      "Switzerland        https://www.cia.gov/library/publications/the-w...   \n",
      "UnitedKingdom      https://www.cia.gov/library/publications/the-w...   \n",
      "\n",
      "                                                            geometry  \\\n",
      "CNTRY_NAME                                                             \n",
      "Albania            POLYGON ((20.79192 40.43154, 20.78722 40.39472...   \n",
      "Austria            POLYGON ((10.47124 46.87135, 10.48821 46.93599...   \n",
      "Belgium            POLYGON ((6.39820 50.32317, 6.34972 50.31277, ...   \n",
      "BosniaHerzegovina  POLYGON ((17.64984 42.88908, 17.57853 42.94382...   \n",
      "Bulgaria           POLYGON ((28.01305 41.98222, 27.97110 41.98415...   \n",
      "Denmark            MULTIPOLYGON (((8.41580 56.67813, 8.44346 56.6...   \n",
      "Ireland            MULTIPOLYGON (((-9.00148 53.14559, -9.03965 53...   \n",
      "Estonia            MULTIPOLYGON (((27.37206 57.53564, 27.31028 57...   \n",
      "CzechRepublic      POLYGON ((18.14528 49.14500, 18.14944 49.12139...   \n",
      "France             MULTIPOLYGON (((6.24375 46.31551, 6.23000 46.3...   \n",
      "Germany            MULTIPOLYGON (((7.36901 49.16878, 7.36403 49.1...   \n",
      "Greece             MULTIPOLYGON (((21.08305 39.05666, 21.04528 39...   \n",
      "Croatia            MULTIPOLYGON (((19.03972 44.86138, 19.02972 44...   \n",
      "Hungary            POLYGON ((21.48941 46.68453, 21.45354 46.68465...   \n",
      "Iceland            POLYGON ((-22.02472 64.41888, -22.02444 64.443...   \n",
      "Italy              MULTIPOLYGON (((12.75357 43.97100, 12.76472 43...   \n",
      "Latvia             POLYGON ((21.06861 56.43555, 21.05777 56.51055...   \n",
      "Lithuania          MULTIPOLYGON (((22.78588 54.36384, 22.77639 54...   \n",
      "Slovakia           POLYGON ((19.00127 48.06895, 18.98980 48.06710...   \n",
      "Liechtenstein      POLYGON ((9.47464 47.05746, 9.51173 47.10597, ...   \n",
      "Luxembourg         POLYGON ((6.35649 49.52586, 6.36278 49.48917, ...   \n",
      "Moldova            POLYGON ((28.10833 46.10229, 28.13888 46.19054...   \n",
      "Macedonia          POLYGON ((20.82111 40.90888, 20.80722 40.90055...   \n",
      "Monaco             POLYGON ((7.39161 43.72755, 7.39090 43.74937, ...   \n",
      "Netherlands        MULTIPOLYGON (((4.20751 51.58948, 4.20132 51.6...   \n",
      "Poland             POLYGON ((16.11805 50.65780, 16.07139 50.63555...   \n",
      "Portugal           MULTIPOLYGON (((-7.53251 39.66942, -7.52500 39...   \n",
      "Romania            POLYGON ((22.68143 44.22470, 22.68777 44.27402...   \n",
      "Slovenia           POLYGON ((13.71865 46.52661, 13.77611 46.51833...   \n",
      "Spain              MULTIPOLYGON (((-6.94653 40.25898, -6.91028 40...   \n",
      "Sweden             MULTIPOLYGON (((11.76955 59.21754, 11.79265 59...   \n",
      "Switzerland        POLYGON ((6.44694 46.83944, 6.46028 46.89583, ...   \n",
      "UnitedKingdom      MULTIPOLYGON (((-0.83500 60.67333, -0.93556 60...   \n",
      "\n",
      "                   avg_hrs_worked  \n",
      "CNTRY_NAME                         \n",
      "Albania                       NaN  \n",
      "Austria                      36.5  \n",
      "Belgium                      37.0  \n",
      "BosniaHerzegovina             NaN  \n",
      "Bulgaria                     40.8  \n",
      "Denmark                      32.9  \n",
      "Ireland                      35.9  \n",
      "Estonia                      38.4  \n",
      "CzechRepublic                 NaN  \n",
      "France                       37.3  \n",
      "Germany                      35.1  \n",
      "Greece                       42.3  \n",
      "Croatia                      39.4  \n",
      "Hungary                      39.7  \n",
      "Iceland                      39.3  \n",
      "Italy                        37.0  \n",
      "Latvia                       38.7  \n",
      "Lithuania                    38.5  \n",
      "Slovakia                     40.1  \n",
      "Liechtenstein                 NaN  \n",
      "Luxembourg                   37.5  \n",
      "Moldova                       NaN  \n",
      "Macedonia                     NaN  \n",
      "Monaco                        NaN  \n",
      "Netherlands                  30.3  \n",
      "Poland                       40.7  \n",
      "Portugal                     39.4  \n",
      "Romania                      39.9  \n",
      "Slovenia                     39.3  \n",
      "Spain                        37.7  \n",
      "Sweden                       36.4  \n",
      "Switzerland                  34.7  \n",
      "UnitedKingdom                 NaN  \n"
     ]
    }
   ],
   "source": [
    "# join the geodataframe with the cleaned up csv dataframe\n",
    "merged = map_df.set_index('CNTRY_NAME').join(df.set_index('country'))\n",
    "\n",
    "#merged=merged.dropna(subset = ['CC3'])\n",
    "print(merged) "
   ]
  },
  {
   "cell_type": "code",
   "execution_count": 88,
   "metadata": {},
   "outputs": [
    {
     "data": {
      "image/png": "[encoded data removed]",
      "text/plain": [
       "<Figure size 720x432 with 2 Axes>"
      ]
     },
     "metadata": {
      "needs_background": "light"
     },
     "output_type": "display_data"
    }
   ],
   "source": [
    "# set a variable that will call whatever column we want to visualise on the map\n",
    "variable = 'avg_hrs_worked'\n",
    "\n",
    "# set the range for the choropleth\n",
    "vmin, vmax = 0, 40\n",
    "\n",
    "# create figure and axes for Matplotlib\n",
    "fig, ax = plt.subplots(1, figsize=(10, 6))\n",
    "\n",
    "# create map\n",
    "merged.plot(column=variable, cmap='Blues', linewidth=1, ax=ax, edgecolor='0.8')\n",
    "\n",
    "# Now we can customise and add annotations\n",
    "\n",
    "# remove the axis\n",
    "ax.axis('off')\n",
    "\n",
    "# add a title\n",
    "ax.set_title('Average work hours in Europe (2016)', \\\n",
    "              fontdict={'fontsize': '20',\n",
    "                        'fontweight' : '3'})\n",
    "\n",
    "# create an annotation for the  data source\n",
    "ax.annotate('Source: Kaggle',\n",
    "           xy=(0.1, .08), xycoords='figure fraction',\n",
    "           horizontalalignment='left', verticalalignment='top',\n",
    "           fontsize=10, color='#555555')\n",
    "\n",
    "# Create colorbar as a legend\n",
    "sm = plt.cm.ScalarMappable(cmap='Blues', norm=plt.Normalize(vmin=vmin, vmax=vmax))\n",
    "sm._A = []\n",
    "cbar = fig.colorbar(sm)\n",
    "\n",
    "# this will save the figure as a high-res png. you can also save as svg\n",
    "fig.savefig('testmap.png', dpi=300)"
   ]
  },
  {
   "cell_type": "code",
   "execution_count": null,
   "metadata": {},
   "outputs": [],
   "source": []
  }
 ],
 "metadata": {
  "kernelspec": {
   "display_name": "Python 3",
   "language": "python",
   "name": "python3"
  },
  "language_info": {
   "codemirror_mode": {
    "name": "ipython",
    "version": 3
   },
   "file_extension": ".py",
   "mimetype": "text/x-python",
   "name": "python",
   "nbconvert_exporter": "python",
   "pygments_lexer": "ipython3",
   "version": "3.8.3"
  }
 },
 "nbformat": 4,
 "nbformat_minor": 4
}
